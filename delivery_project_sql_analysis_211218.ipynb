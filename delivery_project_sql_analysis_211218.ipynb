{
 "cells": [
  {
   "cell_type": "code",
   "execution_count": 2,
   "id": "1cea18fe-de8e-4971-b0ad-2f9f71d3dcef",
   "metadata": {},
   "outputs": [
    {
     "name": "stdout",
     "output_type": "stream",
     "text": [
      "Hangul OK in your Windows!\n"
     ]
    }
   ],
   "source": [
    "import pandas as pd\n",
    "import numpy as np\n",
    "import matplotlib.pyplot as plt\n",
    "import seaborn as sns\n",
    "import set_matplotlib_hangul # 이건 내가 만든 것\n",
    "%matplotlib inline"
   ]
  },
  {
   "cell_type": "markdown",
   "id": "e0af4b53-976c-4414-9fd3-942bf34dfec1",
   "metadata": {},
   "source": [
    "---\n",
    "# 배달 데이터 분석"
   ]
  },
  {
   "cell_type": "markdown",
   "id": "52d0db7d",
   "metadata": {},
   "source": [
    "### 데이터 소개\n",
    "- KT 통신 빅데이터 플랫폼 (https://www.bigdata-telecom.kr/)\n",
    "1. 업종 목적지별 배달 주문건수\n",
    "    - 날짜, 시간, 배달 유형, 시/도, 시/구, 배달건수\n",
    "    - 총 1,026,046개\n",
    "    - 이 중 서울 데이터: 167,802개\n",
    "2. 주문지역 기상 정보\n",
    "    - ID, 도시 코드, 시/도, 시/구, 날짜, 시간, 날씨, 습도, 강우량, 기온, 풍속, 바람 세기, 풍향 방위, 풍향 방위각, 바람 분류  \n",
    "    - 총 1,606,750개\n",
    "    - 이 중 서울 데이터: 160,675개"
   ]
  },
  {
   "cell_type": "markdown",
   "id": "43a75e35",
   "metadata": {},
   "source": [
    "### 프로젝트 과정\n",
    "1. Python에서 두 데이터셋을 읽고 간략한 정리 후, AWS 서버에 생성한 MySQL DB에 두 데이터셋을 전송하고 저장\n",
    "2. MySQL에서 데이터 전처리, 가공 및 EDA 진행\n",
    "3. 처리된 데이터를 Python에서 불러와 EDA 내용 시각화"
   ]
  },
  {
   "cell_type": "markdown",
   "id": "37468c37-1e46-46bc-b544-4445d1c87976",
   "metadata": {},
   "source": [
    "## 업종 목적지별 배달 주문건수 데이터"
   ]
  },
  {
   "cell_type": "code",
   "execution_count": 55,
   "id": "3439992b-f704-4d27-b67a-b8d3d05cd0ec",
   "metadata": {
    "collapsed": true,
    "jupyter": {
     "outputs_hidden": true
    },
    "tags": []
   },
   "outputs": [
    {
     "name": "stdout",
     "output_type": "stream",
     "text": [
      "<class 'pandas.core.frame.DataFrame'>\n",
      "RangeIndex: 1026046 entries, 0 to 1026045\n",
      "Data columns (total 6 columns):\n",
      " #   Column        Non-Null Count    Dtype \n",
      "---  ------        --------------    ----- \n",
      " 0   date          1026046 non-null  object\n",
      " 1   hour_time     1026046 non-null  int64 \n",
      " 2   deliver_type  1026046 non-null  object\n",
      " 3   dosi          1026046 non-null  object\n",
      " 4   sigu          1026046 non-null  object\n",
      " 5   count         1026046 non-null  int64 \n",
      "dtypes: int64(2), object(4)\n",
      "memory usage: 47.0+ MB\n",
      "None\n"
     ]
    },
    {
     "data": {
      "text/html": [
       "<div>\n",
       "<style scoped>\n",
       "    .dataframe tbody tr th:only-of-type {\n",
       "        vertical-align: middle;\n",
       "    }\n",
       "\n",
       "    .dataframe tbody tr th {\n",
       "        vertical-align: top;\n",
       "    }\n",
       "\n",
       "    .dataframe thead th {\n",
       "        text-align: right;\n",
       "    }\n",
       "</style>\n",
       "<table border=\"1\" class=\"dataframe\">\n",
       "  <thead>\n",
       "    <tr style=\"text-align: right;\">\n",
       "      <th></th>\n",
       "      <th>date</th>\n",
       "      <th>hour_time</th>\n",
       "      <th>deliver_type</th>\n",
       "      <th>dosi</th>\n",
       "      <th>sigu</th>\n",
       "      <th>count</th>\n",
       "    </tr>\n",
       "  </thead>\n",
       "  <tbody>\n",
       "    <tr>\n",
       "      <th>0</th>\n",
       "      <td>2021-01-01</td>\n",
       "      <td>0</td>\n",
       "      <td>돈까스/일식</td>\n",
       "      <td>경기도</td>\n",
       "      <td>동두천시</td>\n",
       "      <td>3</td>\n",
       "    </tr>\n",
       "    <tr>\n",
       "      <th>1</th>\n",
       "      <td>2021-01-01</td>\n",
       "      <td>0</td>\n",
       "      <td>돈까스/일식</td>\n",
       "      <td>경기도</td>\n",
       "      <td>부천시</td>\n",
       "      <td>49</td>\n",
       "    </tr>\n",
       "    <tr>\n",
       "      <th>2</th>\n",
       "      <td>2021-01-01</td>\n",
       "      <td>0</td>\n",
       "      <td>돈까스/일식</td>\n",
       "      <td>경기도</td>\n",
       "      <td>안산시 상록구</td>\n",
       "      <td>5</td>\n",
       "    </tr>\n",
       "    <tr>\n",
       "      <th>3</th>\n",
       "      <td>2021-01-01</td>\n",
       "      <td>0</td>\n",
       "      <td>돈까스/일식</td>\n",
       "      <td>경기도</td>\n",
       "      <td>의정부시</td>\n",
       "      <td>6</td>\n",
       "    </tr>\n",
       "    <tr>\n",
       "      <th>4</th>\n",
       "      <td>2021-01-01</td>\n",
       "      <td>0</td>\n",
       "      <td>돈까스/일식</td>\n",
       "      <td>경상남도</td>\n",
       "      <td>진주시</td>\n",
       "      <td>3</td>\n",
       "    </tr>\n",
       "  </tbody>\n",
       "</table>\n",
       "</div>"
      ],
      "text/plain": [
       "         date  hour_time deliver_type  dosi     sigu  count\n",
       "0  2021-01-01          0       돈까스/일식   경기도     동두천시      3\n",
       "1  2021-01-01          0       돈까스/일식   경기도      부천시     49\n",
       "2  2021-01-01          0       돈까스/일식   경기도  안산시 상록구      5\n",
       "3  2021-01-01          0       돈까스/일식   경기도     의정부시      6\n",
       "4  2021-01-01          0       돈까스/일식  경상남도      진주시      3"
      ]
     },
     "execution_count": 55,
     "metadata": {},
     "output_type": "execute_result"
    }
   ],
   "source": [
    "# 데이터 읽기\n",
    "col_names = ['date','hour_time','deliver_type','dosi','sigu','count']\n",
    "deliver_count = pd.read_csv('./업종 목적지별 배달 주문건수_2021.csv', encoding='utf-8', names=col_names, header=None)\n",
    "print(deliver_count.info())\n",
    "deliver_count.head()"
   ]
  },
  {
   "cell_type": "code",
   "execution_count": 58,
   "id": "b3f992ef-634b-41e9-a219-4912521b4b69",
   "metadata": {
    "collapsed": true,
    "jupyter": {
     "outputs_hidden": true
    },
    "tags": []
   },
   "outputs": [
    {
     "data": {
      "text/html": [
       "<div>\n",
       "<style scoped>\n",
       "    .dataframe tbody tr th:only-of-type {\n",
       "        vertical-align: middle;\n",
       "    }\n",
       "\n",
       "    .dataframe tbody tr th {\n",
       "        vertical-align: top;\n",
       "    }\n",
       "\n",
       "    .dataframe thead th {\n",
       "        text-align: right;\n",
       "    }\n",
       "</style>\n",
       "<table border=\"1\" class=\"dataframe\">\n",
       "  <thead>\n",
       "    <tr style=\"text-align: right;\">\n",
       "      <th></th>\n",
       "      <th>date</th>\n",
       "      <th>hour_time</th>\n",
       "      <th>deliver_type</th>\n",
       "      <th>dosi</th>\n",
       "      <th>sigu</th>\n",
       "      <th>count</th>\n",
       "    </tr>\n",
       "  </thead>\n",
       "  <tbody>\n",
       "    <tr>\n",
       "      <th>6</th>\n",
       "      <td>2021-01-01</td>\n",
       "      <td>0</td>\n",
       "      <td>돈까스/일식</td>\n",
       "      <td>서울특별시</td>\n",
       "      <td>구로구</td>\n",
       "      <td>4</td>\n",
       "    </tr>\n",
       "    <tr>\n",
       "      <th>7</th>\n",
       "      <td>2021-01-01</td>\n",
       "      <td>0</td>\n",
       "      <td>돈까스/일식</td>\n",
       "      <td>서울특별시</td>\n",
       "      <td>영등포구</td>\n",
       "      <td>1</td>\n",
       "    </tr>\n",
       "    <tr>\n",
       "      <th>8</th>\n",
       "      <td>2021-01-01</td>\n",
       "      <td>0</td>\n",
       "      <td>돈까스/일식</td>\n",
       "      <td>서울특별시</td>\n",
       "      <td>은평구</td>\n",
       "      <td>5</td>\n",
       "    </tr>\n",
       "    <tr>\n",
       "      <th>13</th>\n",
       "      <td>2021-01-01</td>\n",
       "      <td>0</td>\n",
       "      <td>배달전문업체</td>\n",
       "      <td>서울특별시</td>\n",
       "      <td>동작구</td>\n",
       "      <td>2</td>\n",
       "    </tr>\n",
       "    <tr>\n",
       "      <th>14</th>\n",
       "      <td>2021-01-01</td>\n",
       "      <td>0</td>\n",
       "      <td>배달전문업체</td>\n",
       "      <td>서울특별시</td>\n",
       "      <td>서초구</td>\n",
       "      <td>1</td>\n",
       "    </tr>\n",
       "    <tr>\n",
       "      <th>...</th>\n",
       "      <td>...</td>\n",
       "      <td>...</td>\n",
       "      <td>...</td>\n",
       "      <td>...</td>\n",
       "      <td>...</td>\n",
       "      <td>...</td>\n",
       "    </tr>\n",
       "    <tr>\n",
       "      <th>1026009</th>\n",
       "      <td>2021-07-31</td>\n",
       "      <td>23</td>\n",
       "      <td>패스트푸드</td>\n",
       "      <td>서울특별시</td>\n",
       "      <td>서초구</td>\n",
       "      <td>1</td>\n",
       "    </tr>\n",
       "    <tr>\n",
       "      <th>1026010</th>\n",
       "      <td>2021-07-31</td>\n",
       "      <td>23</td>\n",
       "      <td>패스트푸드</td>\n",
       "      <td>서울특별시</td>\n",
       "      <td>양천구</td>\n",
       "      <td>1</td>\n",
       "    </tr>\n",
       "    <tr>\n",
       "      <th>1026037</th>\n",
       "      <td>2021-07-31</td>\n",
       "      <td>23</td>\n",
       "      <td>한식</td>\n",
       "      <td>서울특별시</td>\n",
       "      <td>관악구</td>\n",
       "      <td>1</td>\n",
       "    </tr>\n",
       "    <tr>\n",
       "      <th>1026038</th>\n",
       "      <td>2021-07-31</td>\n",
       "      <td>23</td>\n",
       "      <td>한식</td>\n",
       "      <td>서울특별시</td>\n",
       "      <td>금천구</td>\n",
       "      <td>1</td>\n",
       "    </tr>\n",
       "    <tr>\n",
       "      <th>1026039</th>\n",
       "      <td>2021-07-31</td>\n",
       "      <td>23</td>\n",
       "      <td>한식</td>\n",
       "      <td>서울특별시</td>\n",
       "      <td>도봉구</td>\n",
       "      <td>1</td>\n",
       "    </tr>\n",
       "  </tbody>\n",
       "</table>\n",
       "<p>167802 rows × 6 columns</p>\n",
       "</div>"
      ],
      "text/plain": [
       "               date  hour_time deliver_type   dosi  sigu  count\n",
       "6        2021-01-01          0       돈까스/일식  서울특별시   구로구      4\n",
       "7        2021-01-01          0       돈까스/일식  서울특별시  영등포구      1\n",
       "8        2021-01-01          0       돈까스/일식  서울특별시   은평구      5\n",
       "13       2021-01-01          0       배달전문업체  서울특별시   동작구      2\n",
       "14       2021-01-01          0       배달전문업체  서울특별시   서초구      1\n",
       "...             ...        ...          ...    ...   ...    ...\n",
       "1026009  2021-07-31         23        패스트푸드  서울특별시   서초구      1\n",
       "1026010  2021-07-31         23        패스트푸드  서울특별시   양천구      1\n",
       "1026037  2021-07-31         23           한식  서울특별시   관악구      1\n",
       "1026038  2021-07-31         23           한식  서울특별시   금천구      1\n",
       "1026039  2021-07-31         23           한식  서울특별시   도봉구      1\n",
       "\n",
       "[167802 rows x 6 columns]"
      ]
     },
     "execution_count": 58,
     "metadata": {},
     "output_type": "execute_result"
    }
   ],
   "source": [
    "# 서울 데이터만 추출\n",
    "seoul_deliver_count = deliver_count[deliver_count['dosi'].str.contains('서울')]\n",
    "seoul_deliver_count"
   ]
  },
  {
   "cell_type": "code",
   "execution_count": 77,
   "id": "279925f3-e9e5-49e7-88a9-ca33c5eebfff",
   "metadata": {},
   "outputs": [
    {
     "name": "stdout",
     "output_type": "stream",
     "text": [
      "<class 'pandas.core.frame.DataFrame'>\n",
      "RangeIndex: 167802 entries, 0 to 167801\n",
      "Data columns (total 6 columns):\n",
      " #   Column        Non-Null Count   Dtype         \n",
      "---  ------        --------------   -----         \n",
      " 0   date          167802 non-null  datetime64[ns]\n",
      " 1   hour_time     167802 non-null  int64         \n",
      " 2   deliver_type  167802 non-null  object        \n",
      " 3   dosi          167802 non-null  object        \n",
      " 4   sigu          167802 non-null  object        \n",
      " 5   count         167802 non-null  int64         \n",
      "dtypes: datetime64[ns](1), int64(2), object(3)\n",
      "memory usage: 7.7+ MB\n"
     ]
    }
   ],
   "source": [
    "# date 컬럼 datetime으로 변환\n",
    "seoul_deliver_count['date'] = pd.to_datetime(seoul_deliver_count['date'])\n",
    "seoul_deliver_count.info()"
   ]
  },
  {
   "cell_type": "code",
   "execution_count": 139,
   "id": "43fc7c87-53e6-44b7-9102-e2299bafb097",
   "metadata": {},
   "outputs": [
    {
     "data": {
      "text/html": [
       "<div>\n",
       "<style scoped>\n",
       "    .dataframe tbody tr th:only-of-type {\n",
       "        vertical-align: middle;\n",
       "    }\n",
       "\n",
       "    .dataframe tbody tr th {\n",
       "        vertical-align: top;\n",
       "    }\n",
       "\n",
       "    .dataframe thead th {\n",
       "        text-align: right;\n",
       "    }\n",
       "</style>\n",
       "<table border=\"1\" class=\"dataframe\">\n",
       "  <thead>\n",
       "    <tr style=\"text-align: right;\">\n",
       "      <th></th>\n",
       "      <th>date</th>\n",
       "      <th>hour_time</th>\n",
       "      <th>deliver_type</th>\n",
       "      <th>dosi</th>\n",
       "      <th>sigu</th>\n",
       "      <th>count</th>\n",
       "      <th>dayweek</th>\n",
       "    </tr>\n",
       "  </thead>\n",
       "  <tbody>\n",
       "    <tr>\n",
       "      <th>0</th>\n",
       "      <td>2021-01-01</td>\n",
       "      <td>0</td>\n",
       "      <td>돈까스/일식</td>\n",
       "      <td>서울특별시</td>\n",
       "      <td>구로구</td>\n",
       "      <td>4</td>\n",
       "      <td>Friday</td>\n",
       "    </tr>\n",
       "    <tr>\n",
       "      <th>1</th>\n",
       "      <td>2021-01-01</td>\n",
       "      <td>0</td>\n",
       "      <td>돈까스/일식</td>\n",
       "      <td>서울특별시</td>\n",
       "      <td>영등포구</td>\n",
       "      <td>1</td>\n",
       "      <td>Friday</td>\n",
       "    </tr>\n",
       "  </tbody>\n",
       "</table>\n",
       "</div>"
      ],
      "text/plain": [
       "        date  hour_time deliver_type   dosi  sigu  count dayweek\n",
       "0 2021-01-01          0       돈까스/일식  서울특별시   구로구      4  Friday\n",
       "1 2021-01-01          0       돈까스/일식  서울특별시  영등포구      1  Friday"
      ]
     },
     "execution_count": 139,
     "metadata": {},
     "output_type": "execute_result"
    }
   ],
   "source": [
    "# 요일 컬럼 추가\n",
    "seoul_deliver_count['dayweek'] = seoul_deliver_count['date'].apply(lambda x: x.strftime('%A'))\n",
    "seoul_deliver_count.head(2)"
   ]
  },
  {
   "cell_type": "code",
   "execution_count": 3,
   "id": "2f7c7c81-e4bf-47c6-852f-07cfa55aae21",
   "metadata": {},
   "outputs": [
    {
     "name": "stdout",
     "output_type": "stream",
     "text": [
      "<class 'pandas.core.frame.DataFrame'>\n",
      "RangeIndex: 167802 entries, 0 to 167801\n",
      "Data columns (total 7 columns):\n",
      " #   Column        Non-Null Count   Dtype         \n",
      "---  ------        --------------   -----         \n",
      " 0   date          167802 non-null  datetime64[ns]\n",
      " 1   hour_time     167802 non-null  int64         \n",
      " 2   deliver_type  167802 non-null  object        \n",
      " 3   dosi          167802 non-null  object        \n",
      " 4   sigu          167802 non-null  object        \n",
      " 5   count         167802 non-null  int64         \n",
      " 6   dayweek       167802 non-null  object        \n",
      "dtypes: datetime64[ns](1), int64(2), object(4)\n",
      "memory usage: 9.0+ MB\n",
      "None\n"
     ]
    }
   ],
   "source": [
    "# seoul_deliver_count.to_csv('seoul_delivery_count_2021.csv', sep=',', index=False) # 데이터 csv 파일로 저장\n",
    "\n",
    "# seoul_deliver_count = pd.read_csv('./seoul_delivery_count_2021.csv', encoding='utf-8', parse_dates=['date'], infer_datetime_format=True) # 저장 확인\n",
    "# print(seoul_deliver_count.info())"
   ]
  },
  {
   "cell_type": "code",
   "execution_count": 141,
   "id": "f38ae22a-e3ad-4eab-892d-63555832801e",
   "metadata": {},
   "outputs": [
    {
     "data": {
      "text/html": [
       "<div>\n",
       "<style scoped>\n",
       "    .dataframe tbody tr th:only-of-type {\n",
       "        vertical-align: middle;\n",
       "    }\n",
       "\n",
       "    .dataframe tbody tr th {\n",
       "        vertical-align: top;\n",
       "    }\n",
       "\n",
       "    .dataframe thead th {\n",
       "        text-align: right;\n",
       "    }\n",
       "</style>\n",
       "<table border=\"1\" class=\"dataframe\">\n",
       "  <thead>\n",
       "    <tr style=\"text-align: right;\">\n",
       "      <th></th>\n",
       "      <th>date</th>\n",
       "      <th>hour_time</th>\n",
       "      <th>deliver_type</th>\n",
       "      <th>dosi</th>\n",
       "      <th>sigu</th>\n",
       "      <th>count</th>\n",
       "      <th>dayweek</th>\n",
       "    </tr>\n",
       "  </thead>\n",
       "  <tbody>\n",
       "    <tr>\n",
       "      <th>167797</th>\n",
       "      <td>2021-07-31</td>\n",
       "      <td>23</td>\n",
       "      <td>패스트푸드</td>\n",
       "      <td>서울특별시</td>\n",
       "      <td>서초구</td>\n",
       "      <td>1</td>\n",
       "      <td>Saturday</td>\n",
       "    </tr>\n",
       "    <tr>\n",
       "      <th>167798</th>\n",
       "      <td>2021-07-31</td>\n",
       "      <td>23</td>\n",
       "      <td>패스트푸드</td>\n",
       "      <td>서울특별시</td>\n",
       "      <td>양천구</td>\n",
       "      <td>1</td>\n",
       "      <td>Saturday</td>\n",
       "    </tr>\n",
       "    <tr>\n",
       "      <th>167799</th>\n",
       "      <td>2021-07-31</td>\n",
       "      <td>23</td>\n",
       "      <td>한식</td>\n",
       "      <td>서울특별시</td>\n",
       "      <td>관악구</td>\n",
       "      <td>1</td>\n",
       "      <td>Saturday</td>\n",
       "    </tr>\n",
       "    <tr>\n",
       "      <th>167800</th>\n",
       "      <td>2021-07-31</td>\n",
       "      <td>23</td>\n",
       "      <td>한식</td>\n",
       "      <td>서울특별시</td>\n",
       "      <td>금천구</td>\n",
       "      <td>1</td>\n",
       "      <td>Saturday</td>\n",
       "    </tr>\n",
       "    <tr>\n",
       "      <th>167801</th>\n",
       "      <td>2021-07-31</td>\n",
       "      <td>23</td>\n",
       "      <td>한식</td>\n",
       "      <td>서울특별시</td>\n",
       "      <td>도봉구</td>\n",
       "      <td>1</td>\n",
       "      <td>Saturday</td>\n",
       "    </tr>\n",
       "  </tbody>\n",
       "</table>\n",
       "</div>"
      ],
      "text/plain": [
       "             date  hour_time deliver_type   dosi sigu  count   dayweek\n",
       "167797 2021-07-31         23        패스트푸드  서울특별시  서초구      1  Saturday\n",
       "167798 2021-07-31         23        패스트푸드  서울특별시  양천구      1  Saturday\n",
       "167799 2021-07-31         23           한식  서울특별시  관악구      1  Saturday\n",
       "167800 2021-07-31         23           한식  서울특별시  금천구      1  Saturday\n",
       "167801 2021-07-31         23           한식  서울특별시  도봉구      1  Saturday"
      ]
     },
     "execution_count": 141,
     "metadata": {},
     "output_type": "execute_result"
    }
   ],
   "source": [
    "seoul_deliver_count.tail()\n",
    "# 7월 31일이 마지막"
   ]
  },
  {
   "cell_type": "markdown",
   "id": "59c9a539-275b-4062-90be-7d321e23f573",
   "metadata": {},
   "source": [
    "## 주문지역 기상 정보 데이터"
   ]
  },
  {
   "cell_type": "code",
   "execution_count": 68,
   "id": "9c805163-94e4-4704-b63c-befd1bd116c4",
   "metadata": {
    "collapsed": true,
    "jupyter": {
     "outputs_hidden": true
    },
    "tags": []
   },
   "outputs": [
    {
     "name": "stdout",
     "output_type": "stream",
     "text": [
      "<class 'pandas.core.frame.DataFrame'>\n",
      "RangeIndex: 1606750 entries, 0 to 1606749\n",
      "Data columns (total 15 columns):\n",
      " #   Column                Non-Null Count    Dtype  \n",
      "---  ------                --------------    -----  \n",
      " 0   no                    1606750 non-null  int64  \n",
      " 1   city_code             1606750 non-null  int64  \n",
      " 2   dosi                  1606750 non-null  object \n",
      " 3   sigu                  1606750 non-null  object \n",
      " 4   date                  1606750 non-null  int64  \n",
      " 5   hour_time             1606750 non-null  int64  \n",
      " 6   rain_type             1606750 non-null  object \n",
      " 7   humidity              1606750 non-null  int64  \n",
      " 8   precipitation         1606750 non-null  float64\n",
      " 9   temperature           1606750 non-null  float64\n",
      " 10  wind_speed            1606750 non-null  float64\n",
      " 11  wind_strength         1606750 non-null  object \n",
      " 12  wind_direction        1606750 non-null  object \n",
      " 13  wind_directino_value  1606750 non-null  int64  \n",
      " 14  wind_category         1606750 non-null  object \n",
      "dtypes: float64(3), int64(6), object(6)\n",
      "memory usage: 183.9+ MB\n",
      "None\n"
     ]
    },
    {
     "data": {
      "text/html": [
       "<div>\n",
       "<style scoped>\n",
       "    .dataframe tbody tr th:only-of-type {\n",
       "        vertical-align: middle;\n",
       "    }\n",
       "\n",
       "    .dataframe tbody tr th {\n",
       "        vertical-align: top;\n",
       "    }\n",
       "\n",
       "    .dataframe thead th {\n",
       "        text-align: right;\n",
       "    }\n",
       "</style>\n",
       "<table border=\"1\" class=\"dataframe\">\n",
       "  <thead>\n",
       "    <tr style=\"text-align: right;\">\n",
       "      <th></th>\n",
       "      <th>no</th>\n",
       "      <th>city_code</th>\n",
       "      <th>dosi</th>\n",
       "      <th>sigu</th>\n",
       "      <th>date</th>\n",
       "      <th>hour_time</th>\n",
       "      <th>rain_type</th>\n",
       "      <th>humidity</th>\n",
       "      <th>precipitation</th>\n",
       "      <th>temperature</th>\n",
       "      <th>wind_speed</th>\n",
       "      <th>wind_strength</th>\n",
       "      <th>wind_direction</th>\n",
       "      <th>wind_directino_value</th>\n",
       "      <th>wind_category</th>\n",
       "    </tr>\n",
       "  </thead>\n",
       "  <tbody>\n",
       "    <tr>\n",
       "      <th>0</th>\n",
       "      <td>4020001</td>\n",
       "      <td>11110</td>\n",
       "      <td>서울특별시</td>\n",
       "      <td>종로구</td>\n",
       "      <td>20201109</td>\n",
       "      <td>0</td>\n",
       "      <td>없음</td>\n",
       "      <td>49</td>\n",
       "      <td>0.0</td>\n",
       "      <td>2.5</td>\n",
       "      <td>0.8</td>\n",
       "      <td>약</td>\n",
       "      <td>east</td>\n",
       "      <td>350</td>\n",
       "      <td>N</td>\n",
       "    </tr>\n",
       "    <tr>\n",
       "      <th>1</th>\n",
       "      <td>4020002</td>\n",
       "      <td>11140</td>\n",
       "      <td>서울특별시</td>\n",
       "      <td>중구</td>\n",
       "      <td>20201109</td>\n",
       "      <td>0</td>\n",
       "      <td>없음</td>\n",
       "      <td>49</td>\n",
       "      <td>0.0</td>\n",
       "      <td>2.5</td>\n",
       "      <td>0.8</td>\n",
       "      <td>약</td>\n",
       "      <td>east</td>\n",
       "      <td>350</td>\n",
       "      <td>N</td>\n",
       "    </tr>\n",
       "    <tr>\n",
       "      <th>2</th>\n",
       "      <td>4020003</td>\n",
       "      <td>11170</td>\n",
       "      <td>서울특별시</td>\n",
       "      <td>용산구</td>\n",
       "      <td>20201109</td>\n",
       "      <td>0</td>\n",
       "      <td>없음</td>\n",
       "      <td>48</td>\n",
       "      <td>0.0</td>\n",
       "      <td>4.8</td>\n",
       "      <td>0.9</td>\n",
       "      <td>약</td>\n",
       "      <td>none</td>\n",
       "      <td>358</td>\n",
       "      <td>N</td>\n",
       "    </tr>\n",
       "    <tr>\n",
       "      <th>3</th>\n",
       "      <td>4020004</td>\n",
       "      <td>11200</td>\n",
       "      <td>서울특별시</td>\n",
       "      <td>성동구</td>\n",
       "      <td>20201109</td>\n",
       "      <td>0</td>\n",
       "      <td>없음</td>\n",
       "      <td>33</td>\n",
       "      <td>0.0</td>\n",
       "      <td>4.7</td>\n",
       "      <td>0.5</td>\n",
       "      <td>약</td>\n",
       "      <td>east</td>\n",
       "      <td>283</td>\n",
       "      <td>WNW</td>\n",
       "    </tr>\n",
       "    <tr>\n",
       "      <th>4</th>\n",
       "      <td>4020005</td>\n",
       "      <td>11230</td>\n",
       "      <td>서울특별시</td>\n",
       "      <td>동대문구</td>\n",
       "      <td>20201109</td>\n",
       "      <td>0</td>\n",
       "      <td>없음</td>\n",
       "      <td>33</td>\n",
       "      <td>0.0</td>\n",
       "      <td>4.7</td>\n",
       "      <td>0.5</td>\n",
       "      <td>약</td>\n",
       "      <td>east</td>\n",
       "      <td>283</td>\n",
       "      <td>WNW</td>\n",
       "    </tr>\n",
       "  </tbody>\n",
       "</table>\n",
       "</div>"
      ],
      "text/plain": [
       "        no  city_code   dosi  sigu      date  hour_time rain_type  humidity  \\\n",
       "0  4020001      11110  서울특별시   종로구  20201109          0        없음        49   \n",
       "1  4020002      11140  서울특별시    중구  20201109          0        없음        49   \n",
       "2  4020003      11170  서울특별시   용산구  20201109          0        없음        48   \n",
       "3  4020004      11200  서울특별시   성동구  20201109          0        없음        33   \n",
       "4  4020005      11230  서울특별시  동대문구  20201109          0        없음        33   \n",
       "\n",
       "   precipitation  temperature  wind_speed wind_strength wind_direction  \\\n",
       "0            0.0          2.5         0.8             약           east   \n",
       "1            0.0          2.5         0.8             약           east   \n",
       "2            0.0          4.8         0.9             약           none   \n",
       "3            0.0          4.7         0.5             약           east   \n",
       "4            0.0          4.7         0.5             약           east   \n",
       "\n",
       "   wind_directino_value wind_category  \n",
       "0                   350             N  \n",
       "1                   350             N  \n",
       "2                   358             N  \n",
       "3                   283           WNW  \n",
       "4                   283           WNW  "
      ]
     },
     "execution_count": 68,
     "metadata": {},
     "output_type": "execute_result"
    }
   ],
   "source": [
    "# 데이터 읽기\n",
    "col_names = ['no','city_code','dosi','sigu','date','hour_time','rain_type','humidity','precipitation','temperature','wind_speed','wind_strength','wind_direction','wind_directino_value','wind_category']\n",
    "deliver_weather = pd.read_csv('./주문지역 기상 정보_20211013.csv', encoding='utf-8', names=col_names, header=None)\n",
    "print(deliver_weather.info())\n",
    "deliver_weather.head()"
   ]
  },
  {
   "cell_type": "code",
   "execution_count": 69,
   "id": "c213d98e-b377-4e9b-a381-a310f80477b4",
   "metadata": {
    "collapsed": true,
    "jupyter": {
     "outputs_hidden": true
    },
    "tags": []
   },
   "outputs": [
    {
     "data": {
      "text/html": [
       "<div>\n",
       "<style scoped>\n",
       "    .dataframe tbody tr th:only-of-type {\n",
       "        vertical-align: middle;\n",
       "    }\n",
       "\n",
       "    .dataframe tbody tr th {\n",
       "        vertical-align: top;\n",
       "    }\n",
       "\n",
       "    .dataframe thead th {\n",
       "        text-align: right;\n",
       "    }\n",
       "</style>\n",
       "<table border=\"1\" class=\"dataframe\">\n",
       "  <thead>\n",
       "    <tr style=\"text-align: right;\">\n",
       "      <th></th>\n",
       "      <th>no</th>\n",
       "      <th>city_code</th>\n",
       "      <th>dosi</th>\n",
       "      <th>sigu</th>\n",
       "      <th>date</th>\n",
       "      <th>hour_time</th>\n",
       "      <th>rain_type</th>\n",
       "      <th>humidity</th>\n",
       "      <th>precipitation</th>\n",
       "      <th>temperature</th>\n",
       "      <th>wind_speed</th>\n",
       "      <th>wind_strength</th>\n",
       "      <th>wind_direction</th>\n",
       "      <th>wind_directino_value</th>\n",
       "      <th>wind_category</th>\n",
       "    </tr>\n",
       "  </thead>\n",
       "  <tbody>\n",
       "    <tr>\n",
       "      <th>0</th>\n",
       "      <td>4020001</td>\n",
       "      <td>11110</td>\n",
       "      <td>서울특별시</td>\n",
       "      <td>종로구</td>\n",
       "      <td>20201109</td>\n",
       "      <td>0</td>\n",
       "      <td>없음</td>\n",
       "      <td>49</td>\n",
       "      <td>0.0</td>\n",
       "      <td>2.5</td>\n",
       "      <td>0.8</td>\n",
       "      <td>약</td>\n",
       "      <td>east</td>\n",
       "      <td>350</td>\n",
       "      <td>N</td>\n",
       "    </tr>\n",
       "    <tr>\n",
       "      <th>1</th>\n",
       "      <td>4020002</td>\n",
       "      <td>11140</td>\n",
       "      <td>서울특별시</td>\n",
       "      <td>중구</td>\n",
       "      <td>20201109</td>\n",
       "      <td>0</td>\n",
       "      <td>없음</td>\n",
       "      <td>49</td>\n",
       "      <td>0.0</td>\n",
       "      <td>2.5</td>\n",
       "      <td>0.8</td>\n",
       "      <td>약</td>\n",
       "      <td>east</td>\n",
       "      <td>350</td>\n",
       "      <td>N</td>\n",
       "    </tr>\n",
       "    <tr>\n",
       "      <th>2</th>\n",
       "      <td>4020003</td>\n",
       "      <td>11170</td>\n",
       "      <td>서울특별시</td>\n",
       "      <td>용산구</td>\n",
       "      <td>20201109</td>\n",
       "      <td>0</td>\n",
       "      <td>없음</td>\n",
       "      <td>48</td>\n",
       "      <td>0.0</td>\n",
       "      <td>4.8</td>\n",
       "      <td>0.9</td>\n",
       "      <td>약</td>\n",
       "      <td>none</td>\n",
       "      <td>358</td>\n",
       "      <td>N</td>\n",
       "    </tr>\n",
       "    <tr>\n",
       "      <th>3</th>\n",
       "      <td>4020004</td>\n",
       "      <td>11200</td>\n",
       "      <td>서울특별시</td>\n",
       "      <td>성동구</td>\n",
       "      <td>20201109</td>\n",
       "      <td>0</td>\n",
       "      <td>없음</td>\n",
       "      <td>33</td>\n",
       "      <td>0.0</td>\n",
       "      <td>4.7</td>\n",
       "      <td>0.5</td>\n",
       "      <td>약</td>\n",
       "      <td>east</td>\n",
       "      <td>283</td>\n",
       "      <td>WNW</td>\n",
       "    </tr>\n",
       "    <tr>\n",
       "      <th>4</th>\n",
       "      <td>4020005</td>\n",
       "      <td>11230</td>\n",
       "      <td>서울특별시</td>\n",
       "      <td>동대문구</td>\n",
       "      <td>20201109</td>\n",
       "      <td>0</td>\n",
       "      <td>없음</td>\n",
       "      <td>33</td>\n",
       "      <td>0.0</td>\n",
       "      <td>4.7</td>\n",
       "      <td>0.5</td>\n",
       "      <td>약</td>\n",
       "      <td>east</td>\n",
       "      <td>283</td>\n",
       "      <td>WNW</td>\n",
       "    </tr>\n",
       "  </tbody>\n",
       "</table>\n",
       "</div>"
      ],
      "text/plain": [
       "        no  city_code   dosi  sigu      date  hour_time rain_type  humidity  \\\n",
       "0  4020001      11110  서울특별시   종로구  20201109          0        없음        49   \n",
       "1  4020002      11140  서울특별시    중구  20201109          0        없음        49   \n",
       "2  4020003      11170  서울특별시   용산구  20201109          0        없음        48   \n",
       "3  4020004      11200  서울특별시   성동구  20201109          0        없음        33   \n",
       "4  4020005      11230  서울특별시  동대문구  20201109          0        없음        33   \n",
       "\n",
       "   precipitation  temperature  wind_speed wind_strength wind_direction  \\\n",
       "0            0.0          2.5         0.8             약           east   \n",
       "1            0.0          2.5         0.8             약           east   \n",
       "2            0.0          4.8         0.9             약           none   \n",
       "3            0.0          4.7         0.5             약           east   \n",
       "4            0.0          4.7         0.5             약           east   \n",
       "\n",
       "   wind_directino_value wind_category  \n",
       "0                   350             N  \n",
       "1                   350             N  \n",
       "2                   358             N  \n",
       "3                   283           WNW  \n",
       "4                   283           WNW  "
      ]
     },
     "execution_count": 69,
     "metadata": {},
     "output_type": "execute_result"
    }
   ],
   "source": [
    "# 서울 데이터만 추출\n",
    "seoul_deliver_weather = deliver_weather[deliver_weather['dosi'].str.contains('서울')]\n",
    "seoul_deliver_weather.head()"
   ]
  },
  {
   "cell_type": "code",
   "execution_count": 71,
   "id": "3315a880-6ca0-4baf-aa48-ea51039df4fe",
   "metadata": {},
   "outputs": [
    {
     "data": {
      "text/html": [
       "<div>\n",
       "<style scoped>\n",
       "    .dataframe tbody tr th:only-of-type {\n",
       "        vertical-align: middle;\n",
       "    }\n",
       "\n",
       "    .dataframe tbody tr th {\n",
       "        vertical-align: top;\n",
       "    }\n",
       "\n",
       "    .dataframe thead th {\n",
       "        text-align: right;\n",
       "    }\n",
       "</style>\n",
       "<table border=\"1\" class=\"dataframe\">\n",
       "  <thead>\n",
       "    <tr style=\"text-align: right;\">\n",
       "      <th></th>\n",
       "      <th>no</th>\n",
       "      <th>city_code</th>\n",
       "      <th>dosi</th>\n",
       "      <th>sigu</th>\n",
       "      <th>date</th>\n",
       "      <th>hour_time</th>\n",
       "      <th>rain_type</th>\n",
       "      <th>humidity</th>\n",
       "      <th>precipitation</th>\n",
       "      <th>temperature</th>\n",
       "      <th>wind_speed</th>\n",
       "      <th>wind_strength</th>\n",
       "      <th>wind_direction</th>\n",
       "      <th>wind_directino_value</th>\n",
       "      <th>wind_category</th>\n",
       "    </tr>\n",
       "  </thead>\n",
       "  <tbody>\n",
       "    <tr>\n",
       "      <th>1606524</th>\n",
       "      <td>5626525</td>\n",
       "      <td>11650</td>\n",
       "      <td>서울특별시</td>\n",
       "      <td>서초구</td>\n",
       "      <td>20210831</td>\n",
       "      <td>2000</td>\n",
       "      <td>비</td>\n",
       "      <td>100</td>\n",
       "      <td>4.5</td>\n",
       "      <td>19.1</td>\n",
       "      <td>1.1</td>\n",
       "      <td>약</td>\n",
       "      <td>west</td>\n",
       "      <td>85</td>\n",
       "      <td>E</td>\n",
       "    </tr>\n",
       "    <tr>\n",
       "      <th>1606525</th>\n",
       "      <td>5626526</td>\n",
       "      <td>11680</td>\n",
       "      <td>서울특별시</td>\n",
       "      <td>강남구</td>\n",
       "      <td>20210831</td>\n",
       "      <td>2000</td>\n",
       "      <td>비</td>\n",
       "      <td>93</td>\n",
       "      <td>3.5</td>\n",
       "      <td>18.8</td>\n",
       "      <td>1.6</td>\n",
       "      <td>약</td>\n",
       "      <td>west</td>\n",
       "      <td>41</td>\n",
       "      <td>NE</td>\n",
       "    </tr>\n",
       "  </tbody>\n",
       "</table>\n",
       "</div>"
      ],
      "text/plain": [
       "              no  city_code   dosi sigu      date  hour_time rain_type  \\\n",
       "1606524  5626525      11650  서울특별시  서초구  20210831       2000         비   \n",
       "1606525  5626526      11680  서울특별시  강남구  20210831       2000         비   \n",
       "\n",
       "         humidity  precipitation  temperature  wind_speed wind_strength  \\\n",
       "1606524       100            4.5         19.1         1.1             약   \n",
       "1606525        93            3.5         18.8         1.6             약   \n",
       "\n",
       "        wind_direction  wind_directino_value wind_category  \n",
       "1606524           west                    85             E  \n",
       "1606525           west                    41            NE  "
      ]
     },
     "execution_count": 71,
     "metadata": {},
     "output_type": "execute_result"
    }
   ],
   "source": [
    "seoul_deliver_weather.tail(2)"
   ]
  },
  {
   "cell_type": "code",
   "execution_count": 129,
   "id": "75f1e24d-bf31-4ea4-b646-c2097114fad2",
   "metadata": {},
   "outputs": [],
   "source": [
    "# 불필요 컬럼 제거\n",
    "seoul_deliver_weather.drop(columns=['no','city_code'],inplace=True)\n",
    "seoul_deliver_weather.drop(columns=['wind_direction','wind_directino_value','wind_category'], inplace=True)"
   ]
  },
  {
   "cell_type": "code",
   "execution_count": 89,
   "id": "1c2f68d5-f6b5-4c91-9092-499b91498b0e",
   "metadata": {
    "collapsed": true,
    "jupyter": {
     "outputs_hidden": true
    },
    "tags": []
   },
   "outputs": [
    {
     "name": "stdout",
     "output_type": "stream",
     "text": [
      "<class 'pandas.core.frame.DataFrame'>\n",
      "Int64Index: 160675 entries, 0 to 1606525\n",
      "Data columns (total 15 columns):\n",
      " #   Column                Non-Null Count   Dtype         \n",
      "---  ------                --------------   -----         \n",
      " 0   no                    160675 non-null  int64         \n",
      " 1   city_code             160675 non-null  int64         \n",
      " 2   dosi                  160675 non-null  object        \n",
      " 3   sigu                  160675 non-null  object        \n",
      " 4   date                  160675 non-null  datetime64[ns]\n",
      " 5   hour_time             160675 non-null  int64         \n",
      " 6   rain_type             160675 non-null  object        \n",
      " 7   humidity              160675 non-null  int64         \n",
      " 8   precipitation         160675 non-null  float64       \n",
      " 9   temperature           160675 non-null  float64       \n",
      " 10  wind_speed            160675 non-null  float64       \n",
      " 11  wind_strength         160675 non-null  object        \n",
      " 12  wind_direction        160675 non-null  object        \n",
      " 13  wind_directino_value  160675 non-null  int64         \n",
      " 14  wind_category         160675 non-null  object        \n",
      "dtypes: datetime64[ns](1), float64(3), int64(5), object(6)\n",
      "memory usage: 19.6+ MB\n"
     ]
    },
    {
     "name": "stderr",
     "output_type": "stream",
     "text": [
      "C:\\Users\\admin\\AppData\\Local\\Temp/ipykernel_17524/1923775557.py:1: SettingWithCopyWarning: \n",
      "A value is trying to be set on a copy of a slice from a DataFrame.\n",
      "Try using .loc[row_indexer,col_indexer] = value instead\n",
      "\n",
      "See the caveats in the documentation: https://pandas.pydata.org/pandas-docs/stable/user_guide/indexing.html#returning-a-view-versus-a-copy\n",
      "  seoul_deliver_weather['date'] = pd.to_datetime(seoul_deliver_weather['date'], format='%Y%m%d')\n"
     ]
    }
   ],
   "source": [
    "# date 컬럼 datetime 형식으로 변경\n",
    "seoul_deliver_weather['date'] = pd.to_datetime(seoul_deliver_weather['date'], format='%Y%m%d')\n",
    "seoul_deliver_weather.info()"
   ]
  },
  {
   "cell_type": "code",
   "execution_count": 108,
   "id": "29937bf9-0707-42d5-944b-148ca53c16b4",
   "metadata": {
    "collapsed": true,
    "jupyter": {
     "outputs_hidden": true
    },
    "tags": []
   },
   "outputs": [
    {
     "name": "stdout",
     "output_type": "stream",
     "text": [
      "<class 'pandas.core.frame.DataFrame'>\n",
      "Int64Index: 160675 entries, 0 to 1606525\n",
      "Data columns (total 15 columns):\n",
      " #   Column                Non-Null Count   Dtype         \n",
      "---  ------                --------------   -----         \n",
      " 0   no                    160675 non-null  int64         \n",
      " 1   city_code             160675 non-null  int64         \n",
      " 2   dosi                  160675 non-null  object        \n",
      " 3   sigu                  160675 non-null  object        \n",
      " 4   date                  160675 non-null  datetime64[ns]\n",
      " 5   hour_time             160675 non-null  int64         \n",
      " 6   rain_type             160675 non-null  object        \n",
      " 7   humidity              160675 non-null  int64         \n",
      " 8   precipitation         160675 non-null  float64       \n",
      " 9   temperature           160675 non-null  float64       \n",
      " 10  wind_speed            160675 non-null  float64       \n",
      " 11  wind_strength         160675 non-null  object        \n",
      " 12  wind_direction        160675 non-null  object        \n",
      " 13  wind_directino_value  160675 non-null  int64         \n",
      " 14  wind_category         160675 non-null  object        \n",
      "dtypes: datetime64[ns](1), float64(3), int64(5), object(6)\n",
      "memory usage: 19.6+ MB\n"
     ]
    },
    {
     "name": "stderr",
     "output_type": "stream",
     "text": [
      "C:\\Users\\admin\\AppData\\Local\\Temp/ipykernel_17524/2958316206.py:1: SettingWithCopyWarning: \n",
      "A value is trying to be set on a copy of a slice from a DataFrame.\n",
      "Try using .loc[row_indexer,col_indexer] = value instead\n",
      "\n",
      "See the caveats in the documentation: https://pandas.pydata.org/pandas-docs/stable/user_guide/indexing.html#returning-a-view-versus-a-copy\n",
      "  seoul_deliver_weather['hour_time'] = seoul_deliver_weather['hour_time'].apply(lambda x: int(x/100) if len(str(x))>2 else int(x))\n"
     ]
    }
   ],
   "source": [
    "# hour_time 컬럼 seoul_deliver_count 데이터프레임의 hourly time 형태와 동일하게 변경\n",
    "seoul_deliver_weather['hour_time'] = seoul_deliver_weather['hour_time'].apply(lambda x: int(x/100) if len(str(x))>2 else int(x))\n",
    "seoul_deliver_weather.info()"
   ]
  },
  {
   "cell_type": "code",
   "execution_count": 130,
   "id": "4039ab0a-9ee8-4f85-837f-fd46284a2b4e",
   "metadata": {},
   "outputs": [],
   "source": [
    "# index 재정렬\n",
    "seoul_deliver_weather.reset_index(drop=True, inplace=True)"
   ]
  },
  {
   "cell_type": "code",
   "execution_count": 7,
   "id": "0fba95f6-2ad2-40a3-8c2a-02aabf968ab9",
   "metadata": {},
   "outputs": [
    {
     "name": "stdout",
     "output_type": "stream",
     "text": [
      "<class 'pandas.core.frame.DataFrame'>\n",
      "RangeIndex: 160675 entries, 0 to 160674\n",
      "Data columns (total 10 columns):\n",
      " #   Column         Non-Null Count   Dtype         \n",
      "---  ------         --------------   -----         \n",
      " 0   dosi           160675 non-null  object        \n",
      " 1   sigu           160675 non-null  object        \n",
      " 2   date           160675 non-null  datetime64[ns]\n",
      " 3   hour_time      160675 non-null  int64         \n",
      " 4   rain_type      160675 non-null  object        \n",
      " 5   humidity       160675 non-null  int64         \n",
      " 6   precipitation  160675 non-null  float64       \n",
      " 7   temperature    160675 non-null  float64       \n",
      " 8   wind_speed     160675 non-null  float64       \n",
      " 9   wind_strength  160675 non-null  object        \n",
      "dtypes: datetime64[ns](1), float64(3), int64(2), object(4)\n",
      "memory usage: 12.3+ MB\n",
      "None\n"
     ]
    }
   ],
   "source": [
    "# seoul_deliver_weather.to_csv('seoul_deliver_weather_2021.csv', sep=',', index=False) # 데이터 csv 파일로 저장\n",
    "\n",
    "# seoul_deliver_weather = pd.read_csv('./seoul_deliver_weather_2021.csv', encoding='utf-8', parse_dates=['date'], infer_datetime_format=True) # 저장 확인\n",
    "# print(seoul_deliver_weather.info())"
   ]
  },
  {
   "cell_type": "code",
   "execution_count": 9,
   "id": "c545031e",
   "metadata": {},
   "outputs": [
    {
     "data": {
      "text/plain": [
       "dosi             0\n",
       "sigu             0\n",
       "date             0\n",
       "hour_time        0\n",
       "rain_type        0\n",
       "humidity         0\n",
       "precipitation    0\n",
       "temperature      0\n",
       "wind_speed       0\n",
       "wind_strength    0\n",
       "dtype: int64"
      ]
     },
     "execution_count": 9,
     "metadata": {},
     "output_type": "execute_result"
    }
   ],
   "source": [
    "# 결측치 확인\n",
    "seoul_deliver_weather.isna().sum()"
   ]
  },
  {
   "cell_type": "markdown",
   "id": "094001c9",
   "metadata": {},
   "source": [
    "## 두 배달 데이터 MySQL DB에 저장"
   ]
  },
  {
   "cell_type": "code",
   "execution_count": 3,
   "id": "55fd2ee3-5857-4766-85f6-e000b684fd52",
   "metadata": {},
   "outputs": [],
   "source": [
    "import mysql.connector\n",
    "\n",
    "# AWS 서버 DB에 접속/연결\n",
    "remote = mysql.connector.connect(\n",
    "    host = host,\n",
    "    port = 3306,\n",
    "    user = \"admin\",\n",
    "    password = password,\n",
    "    database = \"sql_project\"\n",
    ")"
   ]
  },
  {
   "cell_type": "code",
   "execution_count": 142,
   "id": "9b680e00-9ccf-4eee-99b0-15555f4eca28",
   "metadata": {},
   "outputs": [],
   "source": [
    "# remote.close()"
   ]
  },
  {
   "cell_type": "code",
   "execution_count": 4,
   "id": "e5748667",
   "metadata": {},
   "outputs": [
    {
     "name": "stdout",
     "output_type": "stream",
     "text": [
      "<class 'pandas.core.frame.DataFrame'>\n",
      "RangeIndex: 167802 entries, 0 to 167801\n",
      "Data columns (total 7 columns):\n",
      " #   Column        Non-Null Count   Dtype         \n",
      "---  ------        --------------   -----         \n",
      " 0   date          167802 non-null  datetime64[ns]\n",
      " 1   hour_time     167802 non-null  int64         \n",
      " 2   deliver_type  167802 non-null  object        \n",
      " 3   dosi          167802 non-null  object        \n",
      " 4   sigu          167802 non-null  object        \n",
      " 5   count         167802 non-null  int64         \n",
      " 6   dayweek       167802 non-null  object        \n",
      "dtypes: datetime64[ns](1), int64(2), object(4)\n",
      "memory usage: 9.0+ MB\n",
      "None\n"
     ]
    }
   ],
   "source": [
    "# seoul_deliver_count 데이터셋 다시 불러오기\n",
    "seoul_deliver_count = pd.read_csv('./seoul_delivery_count_2021.csv', encoding='utf-8', parse_dates=['date'], infer_datetime_format=True)\n",
    "print(seoul_deliver_count.info())"
   ]
  },
  {
   "cell_type": "code",
   "execution_count": 145,
   "id": "430f0e03-491c-4339-b849-08b36c4b1470",
   "metadata": {},
   "outputs": [
    {
     "data": {
      "text/html": [
       "<div>\n",
       "<style scoped>\n",
       "    .dataframe tbody tr th:only-of-type {\n",
       "        vertical-align: middle;\n",
       "    }\n",
       "\n",
       "    .dataframe tbody tr th {\n",
       "        vertical-align: top;\n",
       "    }\n",
       "\n",
       "    .dataframe thead th {\n",
       "        text-align: right;\n",
       "    }\n",
       "</style>\n",
       "<table border=\"1\" class=\"dataframe\">\n",
       "  <thead>\n",
       "    <tr style=\"text-align: right;\">\n",
       "      <th></th>\n",
       "      <th>date</th>\n",
       "      <th>hour_time</th>\n",
       "      <th>deliver_type</th>\n",
       "      <th>dosi</th>\n",
       "      <th>sigu</th>\n",
       "      <th>count</th>\n",
       "      <th>dayweek</th>\n",
       "    </tr>\n",
       "  </thead>\n",
       "  <tbody>\n",
       "    <tr>\n",
       "      <th>0</th>\n",
       "      <td>2021-01-01</td>\n",
       "      <td>0</td>\n",
       "      <td>돈까스/일식</td>\n",
       "      <td>서울특별시</td>\n",
       "      <td>구로구</td>\n",
       "      <td>4</td>\n",
       "      <td>Friday</td>\n",
       "    </tr>\n",
       "  </tbody>\n",
       "</table>\n",
       "</div>"
      ],
      "text/plain": [
       "        date  hour_time deliver_type   dosi sigu  count dayweek\n",
       "0 2021-01-01          0       돈까스/일식  서울특별시  구로구      4  Friday"
      ]
     },
     "execution_count": 145,
     "metadata": {},
     "output_type": "execute_result"
    }
   ],
   "source": [
    "seoul_deliver_count.head(1)"
   ]
  },
  {
   "cell_type": "code",
   "execution_count": 5,
   "id": "298e1a90-3e94-40b4-899f-0c32152b09a0",
   "metadata": {},
   "outputs": [],
   "source": [
    "# AWS DB에 테이블 생성\n",
    "cur = remote.cursor()\n",
    "cur.execute(\"CREATE TABLE delivery_count (date date, hour_time int, deliver_type varchar(16), dosi varchar(8), sigu varchar(8), count int, dayweek varchar(16))\")"
   ]
  },
  {
   "cell_type": "code",
   "execution_count": 6,
   "id": "1a562ea8",
   "metadata": {},
   "outputs": [],
   "source": [
    "# 생성한 테이블에 데이터 입력\n",
    "sql = \"\"\"INSERT INTO delivery_count VALUES (%s, %s, %s, %s, %s, %s, %s)\"\"\"\n",
    "cursor = remote.cursor(buffered=True)\n",
    "\n",
    "for i, row in seoul_deliver_count.iterrows():\n",
    "    cursor.execute(sql, tuple(row))\n",
    "    #print(tuple(row))\n",
    "\n",
    "remote.commit()"
   ]
  },
  {
   "cell_type": "code",
   "execution_count": 10,
   "id": "d29bbf3b-e19a-4465-bc2b-a6dc1159ba8e",
   "metadata": {},
   "outputs": [
    {
     "name": "stdout",
     "output_type": "stream",
     "text": [
      "<class 'pandas.core.frame.DataFrame'>\n",
      "RangeIndex: 160675 entries, 0 to 160674\n",
      "Data columns (total 10 columns):\n",
      " #   Column         Non-Null Count   Dtype         \n",
      "---  ------         --------------   -----         \n",
      " 0   dosi           160675 non-null  object        \n",
      " 1   sigu           160675 non-null  object        \n",
      " 2   date           160675 non-null  datetime64[ns]\n",
      " 3   hour_time      160675 non-null  int64         \n",
      " 4   rain_type      160675 non-null  object        \n",
      " 5   humidity       160675 non-null  int64         \n",
      " 6   precipitation  160675 non-null  float64       \n",
      " 7   temperature    160675 non-null  float64       \n",
      " 8   wind_speed     160675 non-null  float64       \n",
      " 9   wind_strength  160675 non-null  object        \n",
      "dtypes: datetime64[ns](1), float64(3), int64(2), object(4)\n",
      "memory usage: 12.3+ MB\n",
      "None\n"
     ]
    }
   ],
   "source": [
    "# seoul_deliver_weather 데이터셋 다시 불러오기\n",
    "seoul_deliver_weather = pd.read_csv('./seoul_deliver_weather_2021.csv', encoding='utf-8', parse_dates=['date'], infer_datetime_format=True) # 저장 확인\n",
    "print(seoul_deliver_weather.info())"
   ]
  },
  {
   "cell_type": "code",
   "execution_count": 11,
   "id": "538c6409-1bd2-4a07-b525-1976b04afec9",
   "metadata": {},
   "outputs": [
    {
     "data": {
      "text/html": [
       "<div>\n",
       "<style scoped>\n",
       "    .dataframe tbody tr th:only-of-type {\n",
       "        vertical-align: middle;\n",
       "    }\n",
       "\n",
       "    .dataframe tbody tr th {\n",
       "        vertical-align: top;\n",
       "    }\n",
       "\n",
       "    .dataframe thead th {\n",
       "        text-align: right;\n",
       "    }\n",
       "</style>\n",
       "<table border=\"1\" class=\"dataframe\">\n",
       "  <thead>\n",
       "    <tr style=\"text-align: right;\">\n",
       "      <th></th>\n",
       "      <th>dosi</th>\n",
       "      <th>sigu</th>\n",
       "      <th>date</th>\n",
       "      <th>hour_time</th>\n",
       "      <th>rain_type</th>\n",
       "      <th>humidity</th>\n",
       "      <th>precipitation</th>\n",
       "      <th>temperature</th>\n",
       "      <th>wind_speed</th>\n",
       "      <th>wind_strength</th>\n",
       "    </tr>\n",
       "  </thead>\n",
       "  <tbody>\n",
       "    <tr>\n",
       "      <th>0</th>\n",
       "      <td>서울특별시</td>\n",
       "      <td>종로구</td>\n",
       "      <td>2020-11-09</td>\n",
       "      <td>0</td>\n",
       "      <td>없음</td>\n",
       "      <td>49</td>\n",
       "      <td>0.0</td>\n",
       "      <td>2.5</td>\n",
       "      <td>0.8</td>\n",
       "      <td>약</td>\n",
       "    </tr>\n",
       "  </tbody>\n",
       "</table>\n",
       "</div>"
      ],
      "text/plain": [
       "    dosi sigu       date  hour_time rain_type  humidity  precipitation  \\\n",
       "0  서울특별시  종로구 2020-11-09          0        없음        49            0.0   \n",
       "\n",
       "   temperature  wind_speed wind_strength  \n",
       "0          2.5         0.8             약  "
      ]
     },
     "execution_count": 11,
     "metadata": {},
     "output_type": "execute_result"
    }
   ],
   "source": [
    "seoul_deliver_weather.head(1)"
   ]
  },
  {
   "cell_type": "code",
   "execution_count": 14,
   "id": "419850ac-f3d4-45aa-9454-e8889242c4cd",
   "metadata": {},
   "outputs": [],
   "source": [
    "# AWS DB에 테이블 생성\n",
    "cur = remote.cursor()\n",
    "cur.execute(\"CREATE TABLE delivery_weather (dosi varchar(8), sigu varchar(8), date date, hour_time int, rain_type varchar(8), humidity int, precipitation float, temperatur float, wind_speed float, wind_strength varchar(8))\")"
   ]
  },
  {
   "cell_type": "code",
   "execution_count": 15,
   "id": "59cd1ae4-1be5-44c4-be6c-633444a7e5ee",
   "metadata": {},
   "outputs": [],
   "source": [
    "# 생성한 테이블에 데이터 입력\n",
    "sql = \"\"\"INSERT INTO delivery_weather VALUES (%s, %s, %s, %s, %s, %s, %s, %s, %s, %s)\"\"\"\n",
    "cursor = remote.cursor(buffered=True)\n",
    "\n",
    "for i, row in seoul_deliver_weather.iterrows():\n",
    "    cursor.execute(sql, tuple(row))\n",
    "    #print(tuple(row))\n",
    "\n",
    "remote.commit()"
   ]
  },
  {
   "cell_type": "markdown",
   "id": "2a3bfa24",
   "metadata": {},
   "source": [
    "## MySQL에서 데이터 전처리 및 EDA"
   ]
  },
  {
   "cell_type": "markdown",
   "id": "492d5368",
   "metadata": {},
   "source": [
    "- project_sql_process.sql 파일에 정리"
   ]
  },
  {
   "cell_type": "markdown",
   "id": "d626978e-1190-4380-a8e5-96c28ecc85a3",
   "metadata": {},
   "source": [
    "## 전처리된 데이터 조회하여 분석 및 시각화"
   ]
  },
  {
   "cell_type": "code",
   "execution_count": 1,
   "id": "1a72a5ba-6eb6-4c2e-8d60-baf8b992428c",
   "metadata": {},
   "outputs": [],
   "source": [
    "import mysql.connector\n",
    "\n",
    "remote = mysql.connector.connect(\n",
    "    host = \"database-1.clcamugrgshn.ap-northeast-2.rds.amazonaws.com\",\n",
    "    port = 3306,\n",
    "    user = \"admin\",\n",
    "    password = \"0559440582\",\n",
    "    database = \"sql_project\" # 특정 Database로 바로 접속\n",
    ")"
   ]
  },
  {
   "cell_type": "code",
   "execution_count": 57,
   "id": "d054a865",
   "metadata": {},
   "outputs": [
    {
     "data": {
      "text/html": [
       "<div>\n",
       "<style scoped>\n",
       "    .dataframe tbody tr th:only-of-type {\n",
       "        vertical-align: middle;\n",
       "    }\n",
       "\n",
       "    .dataframe tbody tr th {\n",
       "        vertical-align: top;\n",
       "    }\n",
       "\n",
       "    .dataframe thead th {\n",
       "        text-align: right;\n",
       "    }\n",
       "</style>\n",
       "<table border=\"1\" class=\"dataframe\">\n",
       "  <thead>\n",
       "    <tr style=\"text-align: right;\">\n",
       "      <th></th>\n",
       "      <th>date</th>\n",
       "      <th>month</th>\n",
       "      <th>hour</th>\n",
       "      <th>dayweek</th>\n",
       "      <th>dlvr_type</th>\n",
       "      <th>gu</th>\n",
       "      <th>count</th>\n",
       "      <th>rain_type</th>\n",
       "      <th>hmd</th>\n",
       "      <th>pcp</th>\n",
       "      <th>temp</th>\n",
       "      <th>wind_spd</th>\n",
       "      <th>wind_str</th>\n",
       "      <th>pcp_g</th>\n",
       "      <th>temp_g</th>\n",
       "    </tr>\n",
       "  </thead>\n",
       "  <tbody>\n",
       "    <tr>\n",
       "      <th>0</th>\n",
       "      <td>2021-01-01</td>\n",
       "      <td>01</td>\n",
       "      <td>15</td>\n",
       "      <td>금요일</td>\n",
       "      <td>도시락</td>\n",
       "      <td>관악구</td>\n",
       "      <td>1</td>\n",
       "      <td>없음</td>\n",
       "      <td>58</td>\n",
       "      <td>0.0</td>\n",
       "      <td>0.1</td>\n",
       "      <td>1.2</td>\n",
       "      <td>약</td>\n",
       "      <td>0</td>\n",
       "      <td>0-10</td>\n",
       "    </tr>\n",
       "    <tr>\n",
       "      <th>1</th>\n",
       "      <td>2021-01-01</td>\n",
       "      <td>01</td>\n",
       "      <td>15</td>\n",
       "      <td>금요일</td>\n",
       "      <td>돈까스/일식</td>\n",
       "      <td>관악구</td>\n",
       "      <td>6</td>\n",
       "      <td>없음</td>\n",
       "      <td>58</td>\n",
       "      <td>0.0</td>\n",
       "      <td>0.1</td>\n",
       "      <td>1.2</td>\n",
       "      <td>약</td>\n",
       "      <td>0</td>\n",
       "      <td>0-10</td>\n",
       "    </tr>\n",
       "    <tr>\n",
       "      <th>2</th>\n",
       "      <td>2021-01-01</td>\n",
       "      <td>01</td>\n",
       "      <td>15</td>\n",
       "      <td>금요일</td>\n",
       "      <td>배달전문업체</td>\n",
       "      <td>관악구</td>\n",
       "      <td>1</td>\n",
       "      <td>없음</td>\n",
       "      <td>58</td>\n",
       "      <td>0.0</td>\n",
       "      <td>0.1</td>\n",
       "      <td>1.2</td>\n",
       "      <td>약</td>\n",
       "      <td>0</td>\n",
       "      <td>0-10</td>\n",
       "    </tr>\n",
       "    <tr>\n",
       "      <th>3</th>\n",
       "      <td>2021-01-01</td>\n",
       "      <td>01</td>\n",
       "      <td>15</td>\n",
       "      <td>금요일</td>\n",
       "      <td>분식</td>\n",
       "      <td>관악구</td>\n",
       "      <td>14</td>\n",
       "      <td>없음</td>\n",
       "      <td>58</td>\n",
       "      <td>0.0</td>\n",
       "      <td>0.1</td>\n",
       "      <td>1.2</td>\n",
       "      <td>약</td>\n",
       "      <td>0</td>\n",
       "      <td>0-10</td>\n",
       "    </tr>\n",
       "    <tr>\n",
       "      <th>4</th>\n",
       "      <td>2021-01-01</td>\n",
       "      <td>01</td>\n",
       "      <td>15</td>\n",
       "      <td>금요일</td>\n",
       "      <td>야식</td>\n",
       "      <td>관악구</td>\n",
       "      <td>2</td>\n",
       "      <td>없음</td>\n",
       "      <td>58</td>\n",
       "      <td>0.0</td>\n",
       "      <td>0.1</td>\n",
       "      <td>1.2</td>\n",
       "      <td>약</td>\n",
       "      <td>0</td>\n",
       "      <td>0-10</td>\n",
       "    </tr>\n",
       "  </tbody>\n",
       "</table>\n",
       "</div>"
      ],
      "text/plain": [
       "         date month  hour dayweek dlvr_type   gu  count rain_type  hmd  pcp  \\\n",
       "0  2021-01-01    01    15     금요일       도시락  관악구      1        없음   58  0.0   \n",
       "1  2021-01-01    01    15     금요일    돈까스/일식  관악구      6        없음   58  0.0   \n",
       "2  2021-01-01    01    15     금요일    배달전문업체  관악구      1        없음   58  0.0   \n",
       "3  2021-01-01    01    15     금요일        분식  관악구     14        없음   58  0.0   \n",
       "4  2021-01-01    01    15     금요일        야식  관악구      2        없음   58  0.0   \n",
       "\n",
       "   temp  wind_spd wind_str pcp_g temp_g  \n",
       "0   0.1       1.2        약     0   0-10  \n",
       "1   0.1       1.2        약     0   0-10  \n",
       "2   0.1       1.2        약     0   0-10  \n",
       "3   0.1       1.2        약     0   0-10  \n",
       "4   0.1       1.2        약     0   0-10  "
      ]
     },
     "execution_count": 57,
     "metadata": {},
     "output_type": "execute_result"
    }
   ],
   "source": [
    "import pandas as pd\n",
    "\n",
    "cursor = remote.cursor(buffered=True)\n",
    "cursor.execute(\"select * from delivery\")\n",
    "\n",
    "result = cursor.fetchall()\n",
    "delivery = pd.DataFrame(result, columns=['date','month','hour','dayweek','dlvr_type','gu','count','rain_type','hmd','pcp','temp','wind_spd','wind_str','pcp_g','temp_g'])\n",
    "delivery.head()"
   ]
  },
  {
   "cell_type": "code",
   "execution_count": 104,
   "id": "7957a6ba",
   "metadata": {},
   "outputs": [],
   "source": [
    "# remote.close()"
   ]
  },
  {
   "cell_type": "code",
   "execution_count": 117,
   "id": "e9825958",
   "metadata": {},
   "outputs": [
    {
     "data": {
      "image/png": "[encoded data removed]",
      "text/plain": [
       "<Figure size 432x432 with 2 Axes>"
      ]
     },
     "metadata": {
      "needs_background": "light"
     },
     "output_type": "display_data"
    }
   ],
   "source": [
    "# 변수간 상관관계\n",
    "colormap = 'vlag_r' #plt.cm.PuBu\n",
    "plt.figure(figsize=(6,6))\n",
    "plt.title(\"Features Correlation\")\n",
    "mask = np.triu(np.ones_like(delivery.drop(columns='hour').corr(), dtype=np.bool))\n",
    "sns.heatmap(round(delivery.drop(columns='hour').corr(),4), \n",
    "            linewidths=0.1, vmax=1.0, vmin=-1.0, square=True, # square: 정사각형 모양\n",
    "            mask=mask, cmap=colormap, linecolor='white', annot=True)\n",
    "plt.yticks(rotation=0)\n",
    "plt.show();"
   ]
  },
  {
   "cell_type": "markdown",
   "id": "9d65f86e",
   "metadata": {},
   "source": [
    "- 변수간 상관관계가 높은 변수들은 없는 것 같다"
   ]
  },
  {
   "cell_type": "code",
   "execution_count": 84,
   "id": "a4168871",
   "metadata": {},
   "outputs": [
    {
     "data": {
      "image/png": "[encoded data removed]",
      "text/plain": [
       "<Figure size 1440x720 with 1 Axes>"
      ]
     },
     "metadata": {
      "needs_background": "light"
     },
     "output_type": "display_data"
    }
   ],
   "source": [
    "# 전체 강우량, 기온, 배달건수 데이터 시각화하여 조회\n",
    "temp = delivery[['date','pcp','temp','count']]\n",
    "\n",
    "plt.figure(figsize=(20,10))\n",
    "sns.lineplot(x='date', y='pcp', data=temp, label='pcp')\n",
    "sns.lineplot(x='date', y='temp', data=temp, label='temp')\n",
    "sns.lineplot(x='date', y='count', data=temp, label='count')\n",
    "\n",
    "plt.legend()\n",
    "plt.show()"
   ]
  },
  {
   "cell_type": "markdown",
   "id": "637caadd",
   "metadata": {},
   "source": [
    "- 1월 ~ 7월까지의 배달건수 추이를 보면, 점차 감소한다. 날이 따듯해질 수록 배달주문이 감소하는 것으라 생각한다.\n",
    "- 강우량이 높은 시간대엔 배달건수도 증가하는 경향이 보인다."
   ]
  },
  {
   "cell_type": "code",
   "execution_count": 6,
   "id": "b89fa739",
   "metadata": {},
   "outputs": [
    {
     "data": {
      "text/html": [
       "<div>\n",
       "<style scoped>\n",
       "    .dataframe tbody tr th:only-of-type {\n",
       "        vertical-align: middle;\n",
       "    }\n",
       "\n",
       "    .dataframe tbody tr th {\n",
       "        vertical-align: top;\n",
       "    }\n",
       "\n",
       "    .dataframe thead th {\n",
       "        text-align: right;\n",
       "    }\n",
       "</style>\n",
       "<table border=\"1\" class=\"dataframe\">\n",
       "  <thead>\n",
       "    <tr style=\"text-align: right;\">\n",
       "      <th></th>\n",
       "      <th>month</th>\n",
       "      <th>count</th>\n",
       "    </tr>\n",
       "  </thead>\n",
       "  <tbody>\n",
       "    <tr>\n",
       "      <th>0</th>\n",
       "      <td>01</td>\n",
       "      <td>191864</td>\n",
       "    </tr>\n",
       "    <tr>\n",
       "      <th>1</th>\n",
       "      <td>02</td>\n",
       "      <td>166934</td>\n",
       "    </tr>\n",
       "    <tr>\n",
       "      <th>2</th>\n",
       "      <td>03</td>\n",
       "      <td>116945</td>\n",
       "    </tr>\n",
       "    <tr>\n",
       "      <th>3</th>\n",
       "      <td>04</td>\n",
       "      <td>59792</td>\n",
       "    </tr>\n",
       "    <tr>\n",
       "      <th>4</th>\n",
       "      <td>05</td>\n",
       "      <td>61643</td>\n",
       "    </tr>\n",
       "    <tr>\n",
       "      <th>5</th>\n",
       "      <td>06</td>\n",
       "      <td>60295</td>\n",
       "    </tr>\n",
       "    <tr>\n",
       "      <th>6</th>\n",
       "      <td>07</td>\n",
       "      <td>69276</td>\n",
       "    </tr>\n",
       "  </tbody>\n",
       "</table>\n",
       "</div>"
      ],
      "text/plain": [
       "  month   count\n",
       "0    01  191864\n",
       "1    02  166934\n",
       "2    03  116945\n",
       "3    04   59792\n",
       "4    05   61643\n",
       "5    06   60295\n",
       "6    07   69276"
      ]
     },
     "execution_count": 6,
     "metadata": {},
     "output_type": "execute_result"
    }
   ],
   "source": [
    "# 월별 총 배달건수\n",
    "cursor = remote.cursor(buffered=True)\n",
    "cursor.execute(\n",
    "    \"select month, sum(count) \\\n",
    "    from delivery \\\n",
    "    group by month\")\n",
    "df = pd.DataFrame(cursor.fetchall(), columns=['month','count'])\n",
    "df"
   ]
  },
  {
   "cell_type": "code",
   "execution_count": 7,
   "id": "e8129dfc",
   "metadata": {},
   "outputs": [
    {
     "data": {
      "image/png": "[encoded data removed]",
      "text/plain": [
       "<Figure size 432x288 with 1 Axes>"
      ]
     },
     "metadata": {
      "needs_background": "light"
     },
     "output_type": "display_data"
    }
   ],
   "source": [
    "sns.barplot(data=df, x='count', y='month', palette='Blues_r');"
   ]
  },
  {
   "cell_type": "markdown",
   "id": "9e10dda8",
   "metadata": {},
   "source": [
    "- 월별로 보더라도, 날씨가 추운 1월, 2월, 그리고 3월에 배달건수가 가장 많은 것을 볼 수 있다."
   ]
  },
  {
   "cell_type": "code",
   "execution_count": 9,
   "id": "2fdabdb8",
   "metadata": {},
   "outputs": [
    {
     "data": {
      "text/html": [
       "<div>\n",
       "<style scoped>\n",
       "    .dataframe tbody tr th:only-of-type {\n",
       "        vertical-align: middle;\n",
       "    }\n",
       "\n",
       "    .dataframe tbody tr th {\n",
       "        vertical-align: top;\n",
       "    }\n",
       "\n",
       "    .dataframe thead th {\n",
       "        text-align: right;\n",
       "    }\n",
       "</style>\n",
       "<table border=\"1\" class=\"dataframe\">\n",
       "  <thead>\n",
       "    <tr style=\"text-align: right;\">\n",
       "      <th></th>\n",
       "      <th>temp</th>\n",
       "      <th>count_total</th>\n",
       "      <th>count_avg</th>\n",
       "    </tr>\n",
       "  </thead>\n",
       "  <tbody>\n",
       "    <tr>\n",
       "      <th>0</th>\n",
       "      <td>0-10</td>\n",
       "      <td>232720</td>\n",
       "      <td>5.0152</td>\n",
       "    </tr>\n",
       "    <tr>\n",
       "      <th>1</th>\n",
       "      <td>-10-0</td>\n",
       "      <td>135158</td>\n",
       "      <td>5.0475</td>\n",
       "    </tr>\n",
       "    <tr>\n",
       "      <th>2</th>\n",
       "      <td>-10 미만</td>\n",
       "      <td>3972</td>\n",
       "      <td>4.1855</td>\n",
       "    </tr>\n",
       "    <tr>\n",
       "      <th>3</th>\n",
       "      <td>10-20</td>\n",
       "      <td>197669</td>\n",
       "      <td>4.5442</td>\n",
       "    </tr>\n",
       "    <tr>\n",
       "      <th>4</th>\n",
       "      <td>20-30</td>\n",
       "      <td>116472</td>\n",
       "      <td>4.0045</td>\n",
       "    </tr>\n",
       "    <tr>\n",
       "      <th>5</th>\n",
       "      <td>30-40</td>\n",
       "      <td>40758</td>\n",
       "      <td>4.5121</td>\n",
       "    </tr>\n",
       "  </tbody>\n",
       "</table>\n",
       "</div>"
      ],
      "text/plain": [
       "     temp count_total count_avg\n",
       "0    0-10      232720    5.0152\n",
       "1   -10-0      135158    5.0475\n",
       "2  -10 미만        3972    4.1855\n",
       "3   10-20      197669    4.5442\n",
       "4   20-30      116472    4.0045\n",
       "5   30-40       40758    4.5121"
      ]
     },
     "execution_count": 9,
     "metadata": {},
     "output_type": "execute_result"
    }
   ],
   "source": [
    "# 기온에 따른 시간당 평균 배달건수\n",
    "cursor = remote.cursor(buffered=True)\n",
    "cursor.execute(\n",
    "    \"select temp_g, sum(count), avg(count) \\\n",
    "    from delivery \\\n",
    "    group by temp_g\")\n",
    "df = pd.DataFrame(cursor.fetchall(), columns=['temp','count_total' ,'count_avg'])\n",
    "df"
   ]
  },
  {
   "cell_type": "code",
   "execution_count": 14,
   "id": "2674a41e",
   "metadata": {},
   "outputs": [
    {
     "data": {
      "image/png": "[encoded data removed]",
      "text/plain": [
       "<Figure size 432x288 with 1 Axes>"
      ]
     },
     "metadata": {
      "needs_background": "light"
     },
     "output_type": "display_data"
    }
   ],
   "source": [
    "sns.barplot(data=df.sort_values(by='count_avg', ascending=False), x='count_avg', y='temp', palette='Blues_r');"
   ]
  },
  {
   "cell_type": "markdown",
   "id": "478c80cc",
   "metadata": {},
   "source": [
    "- 기온이 영하 -10도에서 영상 10도 사이일 때, 시간별 평균 배달건수가 가장 높다.\n",
    "- 영상 10-40도의 경우와 비교하여, 따듯한 때보다는 추운 때에 배달주문이 더 많은 것이라 생각한다."
   ]
  },
  {
   "cell_type": "code",
   "execution_count": 15,
   "id": "24f7f780",
   "metadata": {},
   "outputs": [
    {
     "data": {
      "text/html": [
       "<div>\n",
       "<style scoped>\n",
       "    .dataframe tbody tr th:only-of-type {\n",
       "        vertical-align: middle;\n",
       "    }\n",
       "\n",
       "    .dataframe tbody tr th {\n",
       "        vertical-align: top;\n",
       "    }\n",
       "\n",
       "    .dataframe thead th {\n",
       "        text-align: right;\n",
       "    }\n",
       "</style>\n",
       "<table border=\"1\" class=\"dataframe\">\n",
       "  <thead>\n",
       "    <tr style=\"text-align: right;\">\n",
       "      <th></th>\n",
       "      <th>pcp</th>\n",
       "      <th>count_total</th>\n",
       "      <th>count_avg</th>\n",
       "    </tr>\n",
       "  </thead>\n",
       "  <tbody>\n",
       "    <tr>\n",
       "      <th>0</th>\n",
       "      <td>0</td>\n",
       "      <td>692562</td>\n",
       "      <td>4.6566</td>\n",
       "    </tr>\n",
       "    <tr>\n",
       "      <th>1</th>\n",
       "      <td>0.1-1.0</td>\n",
       "      <td>7936</td>\n",
       "      <td>3.9760</td>\n",
       "    </tr>\n",
       "    <tr>\n",
       "      <th>2</th>\n",
       "      <td>1.0-2.5</td>\n",
       "      <td>11957</td>\n",
       "      <td>5.0197</td>\n",
       "    </tr>\n",
       "    <tr>\n",
       "      <th>3</th>\n",
       "      <td>5.0-10.0</td>\n",
       "      <td>5056</td>\n",
       "      <td>5.3616</td>\n",
       "    </tr>\n",
       "    <tr>\n",
       "      <th>4</th>\n",
       "      <td>2.5-5.0</td>\n",
       "      <td>8060</td>\n",
       "      <td>5.5017</td>\n",
       "    </tr>\n",
       "    <tr>\n",
       "      <th>5</th>\n",
       "      <td>10.0-15.0</td>\n",
       "      <td>675</td>\n",
       "      <td>4.4702</td>\n",
       "    </tr>\n",
       "    <tr>\n",
       "      <th>6</th>\n",
       "      <td>15.0-20.0</td>\n",
       "      <td>71</td>\n",
       "      <td>2.4483</td>\n",
       "    </tr>\n",
       "    <tr>\n",
       "      <th>7</th>\n",
       "      <td>20.0-30.0</td>\n",
       "      <td>350</td>\n",
       "      <td>9.7222</td>\n",
       "    </tr>\n",
       "    <tr>\n",
       "      <th>8</th>\n",
       "      <td>30.0-40.0</td>\n",
       "      <td>67</td>\n",
       "      <td>4.7857</td>\n",
       "    </tr>\n",
       "    <tr>\n",
       "      <th>9</th>\n",
       "      <td>40.0-50.0</td>\n",
       "      <td>8</td>\n",
       "      <td>4.0000</td>\n",
       "    </tr>\n",
       "    <tr>\n",
       "      <th>10</th>\n",
       "      <td>50.0-70.0</td>\n",
       "      <td>7</td>\n",
       "      <td>3.5000</td>\n",
       "    </tr>\n",
       "  </tbody>\n",
       "</table>\n",
       "</div>"
      ],
      "text/plain": [
       "          pcp count_total count_avg\n",
       "0           0      692562    4.6566\n",
       "1     0.1-1.0        7936    3.9760\n",
       "2     1.0-2.5       11957    5.0197\n",
       "3    5.0-10.0        5056    5.3616\n",
       "4     2.5-5.0        8060    5.5017\n",
       "5   10.0-15.0         675    4.4702\n",
       "6   15.0-20.0          71    2.4483\n",
       "7   20.0-30.0         350    9.7222\n",
       "8   30.0-40.0          67    4.7857\n",
       "9   40.0-50.0           8    4.0000\n",
       "10  50.0-70.0           7    3.5000"
      ]
     },
     "execution_count": 15,
     "metadata": {},
     "output_type": "execute_result"
    }
   ],
   "source": [
    "# 강우량에 따른 시간당 평균 배달건수\n",
    "cursor = remote.cursor(buffered=True)\n",
    "cursor.execute(\n",
    "    \"select pcp_g, sum(count), avg(count) \\\n",
    "    from delivery \\\n",
    "    group by pcp_g\")\n",
    "df = pd.DataFrame(cursor.fetchall(), columns=['pcp','count_total' ,'count_avg'])\n",
    "df"
   ]
  },
  {
   "cell_type": "code",
   "execution_count": 16,
   "id": "3779b7cc",
   "metadata": {},
   "outputs": [
    {
     "data": {
      "image/png": "[encoded data removed]",
      "text/plain": [
       "<Figure size 432x288 with 1 Axes>"
      ]
     },
     "metadata": {
      "needs_background": "light"
     },
     "output_type": "display_data"
    }
   ],
   "source": [
    "sns.barplot(data=df.sort_values(by='count_avg', ascending=False), x='count_avg', y='pcp', palette='Blues_r');"
   ]
  },
  {
   "cell_type": "markdown",
   "id": "95abc119",
   "metadata": {},
   "source": [
    "- 시간당 강우량 20-30mm, 2.5-5.0mm, 5.0-10.0mm 등의 순서로 평균 배달건수가 가장 많다."
   ]
  },
  {
   "cell_type": "code",
   "execution_count": 18,
   "id": "5d630652",
   "metadata": {},
   "outputs": [
    {
     "data": {
      "text/html": [
       "<div>\n",
       "<style scoped>\n",
       "    .dataframe tbody tr th:only-of-type {\n",
       "        vertical-align: middle;\n",
       "    }\n",
       "\n",
       "    .dataframe tbody tr th {\n",
       "        vertical-align: top;\n",
       "    }\n",
       "\n",
       "    .dataframe thead th {\n",
       "        text-align: right;\n",
       "    }\n",
       "</style>\n",
       "<table border=\"1\" class=\"dataframe\">\n",
       "  <thead>\n",
       "    <tr style=\"text-align: right;\">\n",
       "      <th></th>\n",
       "      <th>rain_type</th>\n",
       "      <th>count_avg</th>\n",
       "    </tr>\n",
       "  </thead>\n",
       "  <tbody>\n",
       "    <tr>\n",
       "      <th>0</th>\n",
       "      <td>진눈개비</td>\n",
       "      <td>6.4941</td>\n",
       "    </tr>\n",
       "    <tr>\n",
       "      <th>1</th>\n",
       "      <td>눈</td>\n",
       "      <td>4.9888</td>\n",
       "    </tr>\n",
       "    <tr>\n",
       "      <th>2</th>\n",
       "      <td>비</td>\n",
       "      <td>4.7572</td>\n",
       "    </tr>\n",
       "    <tr>\n",
       "      <th>3</th>\n",
       "      <td>없음</td>\n",
       "      <td>4.6578</td>\n",
       "    </tr>\n",
       "    <tr>\n",
       "      <th>4</th>\n",
       "      <td>소나기</td>\n",
       "      <td>2.0000</td>\n",
       "    </tr>\n",
       "  </tbody>\n",
       "</table>\n",
       "</div>"
      ],
      "text/plain": [
       "  rain_type count_avg\n",
       "0      진눈개비    6.4941\n",
       "1         눈    4.9888\n",
       "2         비    4.7572\n",
       "3        없음    4.6578\n",
       "4       소나기    2.0000"
      ]
     },
     "execution_count": 18,
     "metadata": {},
     "output_type": "execute_result"
    }
   ],
   "source": [
    "# 날씨별 시간당 평균 배달건수\n",
    "cursor = remote.cursor(buffered=True)\n",
    "cursor.execute(\n",
    "    \"select rain_type, avg(count) \\\n",
    "    from delivery \\\n",
    "    group by rain_type \\\n",
    "    order by avg(count) desc\")\n",
    "df = pd.DataFrame(cursor.fetchall(), columns=['rain_type','count_avg'])\n",
    "df"
   ]
  },
  {
   "cell_type": "code",
   "execution_count": 19,
   "id": "fc7c4c52",
   "metadata": {},
   "outputs": [
    {
     "data": {
      "image/png": "[encoded data removed]",
      "text/plain": [
       "<Figure size 432x288 with 1 Axes>"
      ]
     },
     "metadata": {
      "needs_background": "light"
     },
     "output_type": "display_data"
    }
   ],
   "source": [
    "sns.barplot(data=df.sort_values(by='count_avg', ascending=False), x='count_avg', y='rain_type', palette='Blues_r');"
   ]
  },
  {
   "cell_type": "markdown",
   "id": "45507f48",
   "metadata": {},
   "source": [
    "- 아무 것도 내리지 않을 때보다, 비 그리고 특히 눈이 내릴 때 시간당 평균 배달건수가 더 많다."
   ]
  },
  {
   "cell_type": "code",
   "execution_count": 119,
   "id": "e7eb422f",
   "metadata": {},
   "outputs": [
    {
     "data": {
      "text/html": [
       "<div>\n",
       "<style scoped>\n",
       "    .dataframe tbody tr th:only-of-type {\n",
       "        vertical-align: middle;\n",
       "    }\n",
       "\n",
       "    .dataframe tbody tr th {\n",
       "        vertical-align: top;\n",
       "    }\n",
       "\n",
       "    .dataframe thead th {\n",
       "        text-align: right;\n",
       "    }\n",
       "</style>\n",
       "<table border=\"1\" class=\"dataframe\">\n",
       "  <thead>\n",
       "    <tr style=\"text-align: right;\">\n",
       "      <th></th>\n",
       "      <th>dlvr_type</th>\n",
       "      <th>count</th>\n",
       "    </tr>\n",
       "  </thead>\n",
       "  <tbody>\n",
       "    <tr>\n",
       "      <th>0</th>\n",
       "      <td>치킨</td>\n",
       "      <td>146659</td>\n",
       "    </tr>\n",
       "    <tr>\n",
       "      <th>1</th>\n",
       "      <td>돈까스/일식</td>\n",
       "      <td>138808</td>\n",
       "    </tr>\n",
       "    <tr>\n",
       "      <th>2</th>\n",
       "      <td>분식</td>\n",
       "      <td>81875</td>\n",
       "    </tr>\n",
       "    <tr>\n",
       "      <th>3</th>\n",
       "      <td>패스트푸드</td>\n",
       "      <td>77523</td>\n",
       "    </tr>\n",
       "    <tr>\n",
       "      <th>4</th>\n",
       "      <td>카페/디저트</td>\n",
       "      <td>69229</td>\n",
       "    </tr>\n",
       "  </tbody>\n",
       "</table>\n",
       "</div>"
      ],
      "text/plain": [
       "  dlvr_type   count\n",
       "0        치킨  146659\n",
       "1    돈까스/일식  138808\n",
       "2        분식   81875\n",
       "3     패스트푸드   77523\n",
       "4    카페/디저트   69229"
      ]
     },
     "execution_count": 119,
     "metadata": {},
     "output_type": "execute_result"
    }
   ],
   "source": [
    "# 배달유형별 총 배달건수\n",
    "cursor = remote.cursor(buffered=True)\n",
    "cursor.execute(\n",
    "    \"select dlvr_type, sum(count) \\\n",
    "    from delivery \\\n",
    "    group by dlvr_type \\\n",
    "    order by sum(count) desc\")\n",
    "\n",
    "df = pd.DataFrame(cursor.fetchall(), columns=['dlvr_type','count'])\n",
    "df.head()"
   ]
  },
  {
   "cell_type": "code",
   "execution_count": 120,
   "id": "1bd26473",
   "metadata": {},
   "outputs": [
    {
     "data": {
      "image/png": "[encoded data removed]",
      "text/plain": [
       "<Figure size 432x288 with 1 Axes>"
      ]
     },
     "metadata": {
      "needs_background": "light"
     },
     "output_type": "display_data"
    }
   ],
   "source": [
    "sns.barplot(data=df, x='count', y='dlvr_type', palette='Blues_r');"
   ]
  },
  {
   "cell_type": "markdown",
   "id": "8368ee27",
   "metadata": {},
   "source": [
    "- 배달유형별로는 치킨, 돈까스/일식, 분식, 패스트푸드, 카페/디저트, 한식 등의 순서로 가장 많다."
   ]
  },
  {
   "cell_type": "code",
   "execution_count": 121,
   "id": "850ea118",
   "metadata": {},
   "outputs": [
    {
     "data": {
      "text/html": [
       "<div>\n",
       "<style scoped>\n",
       "    .dataframe tbody tr th:only-of-type {\n",
       "        vertical-align: middle;\n",
       "    }\n",
       "\n",
       "    .dataframe tbody tr th {\n",
       "        vertical-align: top;\n",
       "    }\n",
       "\n",
       "    .dataframe thead th {\n",
       "        text-align: right;\n",
       "    }\n",
       "</style>\n",
       "<table border=\"1\" class=\"dataframe\">\n",
       "  <thead>\n",
       "    <tr style=\"text-align: right;\">\n",
       "      <th></th>\n",
       "      <th>dlvr_type</th>\n",
       "      <th>total_count</th>\n",
       "      <th>avg_count</th>\n",
       "    </tr>\n",
       "  </thead>\n",
       "  <tbody>\n",
       "    <tr>\n",
       "      <th>0</th>\n",
       "      <td>토요일</td>\n",
       "      <td>131742</td>\n",
       "      <td>5.2611</td>\n",
       "    </tr>\n",
       "    <tr>\n",
       "      <th>1</th>\n",
       "      <td>일요일</td>\n",
       "      <td>126393</td>\n",
       "      <td>5.2478</td>\n",
       "    </tr>\n",
       "    <tr>\n",
       "      <th>2</th>\n",
       "      <td>금요일</td>\n",
       "      <td>118092</td>\n",
       "      <td>4.9788</td>\n",
       "    </tr>\n",
       "    <tr>\n",
       "      <th>3</th>\n",
       "      <td>월요일</td>\n",
       "      <td>92931</td>\n",
       "      <td>4.3250</td>\n",
       "    </tr>\n",
       "    <tr>\n",
       "      <th>4</th>\n",
       "      <td>수요일</td>\n",
       "      <td>88800</td>\n",
       "      <td>4.3311</td>\n",
       "    </tr>\n",
       "    <tr>\n",
       "      <th>5</th>\n",
       "      <td>목요일</td>\n",
       "      <td>85978</td>\n",
       "      <td>4.1996</td>\n",
       "    </tr>\n",
       "    <tr>\n",
       "      <th>6</th>\n",
       "      <td>화요일</td>\n",
       "      <td>82813</td>\n",
       "      <td>4.0519</td>\n",
       "    </tr>\n",
       "  </tbody>\n",
       "</table>\n",
       "</div>"
      ],
      "text/plain": [
       "  dlvr_type total_count avg_count\n",
       "0       토요일      131742    5.2611\n",
       "1       일요일      126393    5.2478\n",
       "2       금요일      118092    4.9788\n",
       "3       월요일       92931    4.3250\n",
       "4       수요일       88800    4.3311\n",
       "5       목요일       85978    4.1996\n",
       "6       화요일       82813    4.0519"
      ]
     },
     "execution_count": 121,
     "metadata": {},
     "output_type": "execute_result"
    }
   ],
   "source": [
    "# 요일별 총 배달건수\n",
    "cursor = remote.cursor(buffered=True)\n",
    "cursor.execute(\n",
    "    \"select dayweek, sum(count), avg(count)\\\n",
    "    from delivery\\\n",
    "    group by dayweek \\\n",
    "    order by sum(count) desc\")\n",
    "\n",
    "df = pd.DataFrame(cursor.fetchall(), columns=['dlvr_type','total_count','avg_count'])\n",
    "df"
   ]
  },
  {
   "cell_type": "code",
   "execution_count": 122,
   "id": "5c1ecccf",
   "metadata": {},
   "outputs": [
    {
     "data": {
      "image/png": "[encoded data removed]",
      "text/plain": [
       "<Figure size 432x288 with 1 Axes>"
      ]
     },
     "metadata": {
      "needs_background": "light"
     },
     "output_type": "display_data"
    }
   ],
   "source": [
    "sns.barplot(data=df, x='total_count', y='dlvr_type', palette='Blues_r');"
   ]
  },
  {
   "cell_type": "markdown",
   "id": "94e21c3e",
   "metadata": {},
   "source": [
    "- 금요일과 주말(토툐일, 일요일)에 배달건수가 가장 많다."
   ]
  },
  {
   "cell_type": "markdown",
   "id": "1257d41c",
   "metadata": {},
   "source": [
    "---"
   ]
  },
  {
   "cell_type": "markdown",
   "id": "3b2f98b0",
   "metadata": {},
   "source": [
    "## 결론\n",
    "\n",
    "- 날이 추운 1월, 2월, 3월에 다른 달에 비해 배달주문이 더 많으며, 특히 영하 -10도에서 영상 10도 사이에서 시간별 평균 배달건수가 가장 높다.\n",
    "- 비나 눈이 내릴 때가 아닌 시간과 비교하여 평균 배달주문건수가 더 많은데, 특히 강우량 20-30mm일 때 가장 많은 배달주문이 발생한다.\n",
    "- 치킨, 돈까스/일식에 대한 배달주문 선호도가 높고, 이어서 분식과 패스트푸드가 높다.\n",
    "- 금요일과 주말에 가장 많은 배달주문이 발생한다."
   ]
  },
  {
   "cell_type": "code",
   "execution_count": null,
   "id": "e9876503",
   "metadata": {},
   "outputs": [],
   "source": []
  }
 ],
 "metadata": {
  "kernelspec": {
   "display_name": "Python 3 (ipykernel)",
   "language": "python",
   "name": "python3"
  },
  "language_info": {
   "codemirror_mode": {
    "name": "ipython",
    "version": 3
   },
   "file_extension": ".py",
   "mimetype": "text/x-python",
   "name": "python",
   "nbconvert_exporter": "python",
   "pygments_lexer": "ipython3",
   "version": "3.8.11"
  }
 },
 "nbformat": 4,
 "nbformat_minor": 5
}
